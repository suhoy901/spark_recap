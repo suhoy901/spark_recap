{
 "cells": [
  {
   "cell_type": "code",
   "execution_count": 1,
   "metadata": {},
   "outputs": [],
   "source": [
    "from pyspark.sql import SparkSession\n",
    "spark = SparkSession \\\n",
    "    .builder \\\n",
    "    .appName(\"Examples of Chapter 09, Data Source\") \\\n",
    "    .getOrCreate()"
   ]
  },
  {
   "cell_type": "markdown",
   "metadata": {},
   "source": [
    "# 9. 데이터 소스"
   ]
  },
  {
   "cell_type": "markdown",
   "metadata": {},
   "source": [
    "## 9.1 데이터소스 API의 구조\n",
    "> Spark에서 메타스토어를 외부에 있는 Database를 연결하는 방식을 고민"
   ]
  },
  {
   "cell_type": "markdown",
   "metadata": {},
   "source": [
    "#### 읽기 모드\n",
    "+ Permissive: 오류 레코드의 모든 필드를 null로 설정하고 모든 오류 레코드를 \\_corrup_record 라는 문자열 컬럼에 기록\n",
    "+ dropMalfromed: 형식에 맞지 않는 레코드가 포함된 로우 제거\n",
    "+ failFast: 형식에 맞지 않는 레코드를 만나면 즉시 종료\n",
    "\n",
    "#### 쓰기 모드\n",
    "+ append: 해당 경로에 이미 존재하는 파일 몰록에 결과 파일을 추가\n",
    "+ overwrite: 이미 존재하는 모든 데이터를 완전히 덮어 씀\n",
    "+ errorIfExists: 해당 경로에 데이터나 파일이 존재하는 경우 오류를 발생시키면서 쓰기 작업이 실패됨\n",
    "+ ignore: 해당 경로에 데이터나 파일이 존재하는 경우 아무런 처리도 하지 않음\n"
   ]
  },
  {
   "cell_type": "markdown",
   "metadata": {},
   "source": [
    "## 9.2 CSV"
   ]
  },
  {
   "cell_type": "markdown",
   "metadata": {},
   "source": [
    "### 9.2.1 CSV 파일 쓰기"
   ]
  },
  {
   "cell_type": "code",
   "execution_count": 2,
   "metadata": {},
   "outputs": [],
   "source": [
    "\"\"\" Open Session \"\"\"\n",
    "from pyspark.sql import SparkSession\n",
    "spark = SparkSession \\\n",
    "    .builder \\\n",
    "    .appName(\"Python Spark SQL basic example\") \\\n",
    "    .getOrCreate()"
   ]
  },
  {
   "cell_type": "code",
   "execution_count": 3,
   "metadata": {},
   "outputs": [],
   "source": [
    "spark.conf.set(\"spark.sql.shuffle.partitions\", \"2\")"
   ]
  },
  {
   "cell_type": "code",
   "execution_count": 4,
   "metadata": {},
   "outputs": [],
   "source": [
    "from pyspark.sql.types import StructField, StructType, StringType, LongType \n",
    "\n",
    "myManualSchema = StructType([\n",
    "    StructField(\"DEST_COUNTRY_NAME\", StringType(), True),\n",
    "    StructField(\"ORIGIN_COUNTRY_NAME\", StringType(), True),\n",
    "    StructField(\"count\", LongType(), False)\n",
    "])\n",
    "\n",
    "csvFile = spark.read.format(\"csv\")\\\n",
    "    .option(\"header\", \"true\")\\\n",
    "    .option(\"mode\", \"permissive\")\\\n",
    "    .schema(myManualSchema)\\\n",
    "    .load(\"../BookSamples/data/flight-data/csv/2010-summary.csv\")"
   ]
  },
  {
   "cell_type": "code",
   "execution_count": 5,
   "metadata": {},
   "outputs": [
    {
     "data": {
      "text/plain": [
       "1"
      ]
     },
     "execution_count": 5,
     "metadata": {},
     "output_type": "execute_result"
    }
   ],
   "source": [
    "csvFile.rdd.getNumPartitions()"
   ]
  },
  {
   "cell_type": "code",
   "execution_count": 6,
   "metadata": {},
   "outputs": [
    {
     "name": "stdout",
     "output_type": "stream",
     "text": [
      "+-----------------+-------------------+-----+\n",
      "|DEST_COUNTRY_NAME|ORIGIN_COUNTRY_NAME|count|\n",
      "+-----------------+-------------------+-----+\n",
      "|    United States|            Romania|    1|\n",
      "|    United States|            Ireland|  264|\n",
      "|    United States|              India|   69|\n",
      "|            Egypt|      United States|   24|\n",
      "|Equatorial Guinea|      United States|    1|\n",
      "+-----------------+-------------------+-----+\n",
      "only showing top 5 rows\n",
      "\n"
     ]
    }
   ],
   "source": [
    "csvFile.show(5)"
   ]
  },
  {
   "cell_type": "markdown",
   "metadata": {},
   "source": [
    "### 9.2.3 CSV 파일 쓰기\n",
    "- `/home/jovyan/work/tmp/my-tsv-file.tsv`"
   ]
  },
  {
   "cell_type": "code",
   "execution_count": 7,
   "metadata": {},
   "outputs": [],
   "source": [
    "csvFile.write.format(\"csv\").mode(\"overwrite\")\\\n",
    "    .option(\"sep\", \"\\t\")\\\n",
    "    .save(\"../tmp/my-tsv-file.tsv\")"
   ]
  },
  {
   "cell_type": "code",
   "execution_count": 8,
   "metadata": {},
   "outputs": [
    {
     "name": "stdout",
     "output_type": "stream",
     "text": [
      "my-json-file.json  my-parquet-file.parquet  my-tsv-file.tsv\n"
     ]
    }
   ],
   "source": [
    "!ls ../tmp/"
   ]
  },
  {
   "cell_type": "code",
   "execution_count": 9,
   "metadata": {},
   "outputs": [],
   "source": [
    "csvFile = spark.read.format(\"csv\") \\\n",
    "    .option(\"sep\", \"\\t\")\\\n",
    "    .option(\"header\", \"true\")\\\n",
    "    .option(\"mode\", \"permissive\")\\\n",
    "    .schema(myManualSchema)\\\n",
    "    .load(\"../tmp/my-tsv-file.tsv\")"
   ]
  },
  {
   "cell_type": "code",
   "execution_count": 10,
   "metadata": {},
   "outputs": [
    {
     "data": {
      "text/plain": [
       "(254, 3)"
      ]
     },
     "execution_count": 10,
     "metadata": {},
     "output_type": "execute_result"
    }
   ],
   "source": [
    "csvFile.toPandas().shape"
   ]
  },
  {
   "cell_type": "code",
   "execution_count": 11,
   "metadata": {},
   "outputs": [
    {
     "name": "stdout",
     "output_type": "stream",
     "text": [
      "part-00000-954f322b-4f22-49f4-85e0-40d2a0e0f08d-c000.csv  _SUCCESS\n"
     ]
    }
   ],
   "source": [
    "!ls ../tmp/my-tsv-file.tsv"
   ]
  },
  {
   "cell_type": "markdown",
   "metadata": {},
   "source": [
    "## 9.3 JSON\n",
    "+ 스파크에서는 JSON 파일을 사용할 때 중로 구분된 JSON을 기본적으로 사용\n",
    "+ MultiLine 옵션을 사용해 줄로 구분된 방식과 여러 줄로 구성된 방식을 선택적으로 사용할 수 있음"
   ]
  },
  {
   "cell_type": "markdown",
   "metadata": {},
   "source": [
    "### 9.3.2 JSON 읽기"
   ]
  },
  {
   "cell_type": "code",
   "execution_count": 12,
   "metadata": {},
   "outputs": [
    {
     "name": "stdout",
     "output_type": "stream",
     "text": [
      "2010-summary.json  2012-summary.json  2014-summary.json\n",
      "2011-summary.json  2013-summary.json  2015-summary.json\n"
     ]
    }
   ],
   "source": [
    "!ls ../BookSamples/data/flight-data/json/"
   ]
  },
  {
   "cell_type": "code",
   "execution_count": 13,
   "metadata": {},
   "outputs": [],
   "source": [
    "# option(\"mode\", \"FAILFAST\") : 잘못된 문자열을 레코드로 만나면 에러를 발생시킴\n",
    "jsonFile = spark.read.format(\"json\").option(\"mode\", \"FAILFAST\").option(\"inferSchema\", \"true\").load(\"../BookSamples/data/flight-data/json/2010-summary.json\")"
   ]
  },
  {
   "cell_type": "code",
   "execution_count": 14,
   "metadata": {},
   "outputs": [
    {
     "data": {
      "text/plain": [
       "(255, 3)"
      ]
     },
     "execution_count": 14,
     "metadata": {},
     "output_type": "execute_result"
    }
   ],
   "source": [
    "jsonFile.toPandas().shape"
   ]
  },
  {
   "cell_type": "code",
   "execution_count": 15,
   "metadata": {},
   "outputs": [
    {
     "name": "stdout",
     "output_type": "stream",
     "text": [
      "(1502, 3)\n",
      "<class 'pandas.core.frame.DataFrame'>\n",
      "RangeIndex: 1502 entries, 0 to 1501\n",
      "Data columns (total 3 columns):\n",
      " #   Column               Non-Null Count  Dtype \n",
      "---  ------               --------------  ----- \n",
      " 0   DEST_COUNTRY_NAME    1502 non-null   object\n",
      " 1   ORIGIN_COUNTRY_NAME  1502 non-null   object\n",
      " 2   count                1502 non-null   int64 \n",
      "dtypes: int64(1), object(2)\n",
      "memory usage: 35.3+ KB\n"
     ]
    }
   ],
   "source": [
    "jsonFile_all = spark.read.format(\"json\").option(\"mode\", \"FAILFAST\").option(\"inferSchema\", \"true\").load(\"../BookSamples/data/flight-data/json/\")\n",
    "print(jsonFile_all.toPandas().shape)\n",
    "jsonFile_all.toPandas().info()"
   ]
  },
  {
   "cell_type": "code",
   "execution_count": 16,
   "metadata": {},
   "outputs": [
    {
     "data": {
      "text/plain": [
       "6"
      ]
     },
     "execution_count": 16,
     "metadata": {},
     "output_type": "execute_result"
    }
   ],
   "source": [
    "jsonFile_all.rdd.getNumPartitions()"
   ]
  },
  {
   "cell_type": "markdown",
   "metadata": {},
   "source": [
    "### 9.3.3 JSON 쓰기\n",
    "+ 파티션당 하나의 파일을 만들며 전체 DataFrame을 단일 폴더에 저장\n",
    "+ JSON 객체는 한 줄에 하나씩 기록됨"
   ]
  },
  {
   "cell_type": "code",
   "execution_count": 17,
   "metadata": {},
   "outputs": [],
   "source": [
    "csvFile.write.format(\"json\").mode(\"overwrite\")\\\n",
    "    .option(\"mode\", \"append\")\\\n",
    "    .save(\"../tmp/my-json-file.json\")"
   ]
  },
  {
   "cell_type": "code",
   "execution_count": 18,
   "metadata": {},
   "outputs": [
    {
     "name": "stdout",
     "output_type": "stream",
     "text": [
      "part-00000-397a20ce-e5a1-4306-a4ea-7092b85aede5-c000.json  _SUCCESS\n"
     ]
    }
   ],
   "source": [
    "!ls ../tmp/my-json-file.json"
   ]
  },
  {
   "cell_type": "code",
   "execution_count": 19,
   "metadata": {},
   "outputs": [
    {
     "name": "stdout",
     "output_type": "stream",
     "text": [
      "part-00000-397a20ce-e5a1-4306-a4ea-7092b85aede5-c000.json  _SUCCESS\n"
     ]
    }
   ],
   "source": [
    "!ls ../tmp/my-json-file.json"
   ]
  },
  {
   "cell_type": "markdown",
   "metadata": {},
   "source": [
    "## 9.4 Parquet & ORC\n",
    "+ 전체 파일을 읽는 대신 개별 컬럼을 읽을 수 있으며 컬럼 기반의 압축 기능을 제공\n",
    "+ 아파치 스파크와 잘 호환되기 때문에 기본 파일 포맷이 됨\n",
    "+ 복합 데이터 타입을 지원\n",
    "+ ORC 파일도 파케이와 유사하나 Hive에 최적화 됨"
   ]
  },
  {
   "cell_type": "markdown",
   "metadata": {},
   "source": [
    "### 9.4.1 Parquet 파일 읽기\n",
    "+ 스키마가 파일 자체에 내장되어 있음"
   ]
  },
  {
   "cell_type": "code",
   "execution_count": 20,
   "metadata": {},
   "outputs": [
    {
     "data": {
      "text/plain": [
       "1"
      ]
     },
     "execution_count": 20,
     "metadata": {},
     "output_type": "execute_result"
    }
   ],
   "source": [
    "parquetFile = spark.read.format(\"parquet\").load(\"../BookSamples/data/flight-data/parquet/2010-summary.parquet\")\n",
    "parquetFile.rdd.getNumPartitions() # rdd.partitions.length 는 스칼라"
   ]
  },
  {
   "cell_type": "code",
   "execution_count": 21,
   "metadata": {},
   "outputs": [
    {
     "data": {
      "text/plain": [
       "(255, 3)"
      ]
     },
     "execution_count": 21,
     "metadata": {},
     "output_type": "execute_result"
    }
   ],
   "source": [
    "from pyspark.sql.functions import expr\n",
    "\n",
    "parquetFile.toPandas().shape"
   ]
  },
  {
   "cell_type": "code",
   "execution_count": 22,
   "metadata": {},
   "outputs": [
    {
     "name": "stdout",
     "output_type": "stream",
     "text": [
      "4\t../BookSamples/data/flight-data/parquet/2010-summary.parquet\n",
      "4\t../BookSamples/data/flight-data/parquet/\n"
     ]
    }
   ],
   "source": [
    "!du ../BookSamples/data/flight-data/parquet/"
   ]
  },
  {
   "cell_type": "code",
   "execution_count": 23,
   "metadata": {},
   "outputs": [
    {
     "data": {
      "text/plain": [
       "1"
      ]
     },
     "execution_count": 23,
     "metadata": {},
     "output_type": "execute_result"
    }
   ],
   "source": [
    "parquetFile_all = spark.read.format(\"parquet\").load(\"../BookSamples/data/flight-data/parquet/*.parquet\")\n",
    "parquetFile_all.rdd.getNumPartitions()"
   ]
  },
  {
   "cell_type": "code",
   "execution_count": 24,
   "metadata": {},
   "outputs": [
    {
     "data": {
      "text/plain": [
       "(255, 3)"
      ]
     },
     "execution_count": 24,
     "metadata": {},
     "output_type": "execute_result"
    }
   ],
   "source": [
    "parquetFile_all.toPandas().shape"
   ]
  },
  {
   "cell_type": "markdown",
   "metadata": {},
   "source": [
    "### 9.4.2 Parquet 파일 쓰기"
   ]
  },
  {
   "cell_type": "code",
   "execution_count": 25,
   "metadata": {},
   "outputs": [],
   "source": [
    "parquetFile.write.format(\"parquet\").mode(\"overwrite\")\\\n",
    "    .save(\"../tmp/my-parquet-file.parquet\")"
   ]
  },
  {
   "cell_type": "code",
   "execution_count": 26,
   "metadata": {},
   "outputs": [
    {
     "name": "stdout",
     "output_type": "stream",
     "text": [
      "part-00000-3e9a1506-0f76-4da5-acb8-4962e2df23c8-c000.snappy.parquet  _SUCCESS\n"
     ]
    }
   ],
   "source": [
    "!ls ../tmp/my-parquet-file.parquet"
   ]
  },
  {
   "cell_type": "markdown",
   "metadata": {},
   "source": [
    "## 9.6 SQL 데이터베이스"
   ]
  },
  {
   "cell_type": "code",
   "execution_count": 27,
   "metadata": {},
   "outputs": [
    {
     "name": "stdout",
     "output_type": "stream",
     "text": [
      "\u001b[33mWARNING: The directory '/home/jovyan/.cache/pip' or its parent directory is not owned or is not writable by the current user. The cache has been disabled. Check the permissions and owner of that directory. If executing pip with sudo, you may want sudo's -H flag.\u001b[0m\n",
      "Requirement already satisfied: mysql-connector in /opt/conda/lib/python3.8/site-packages (2.2.9)\n"
     ]
    }
   ],
   "source": [
    "!pip install mysql-connector"
   ]
  },
  {
   "cell_type": "code",
   "execution_count": 28,
   "metadata": {},
   "outputs": [],
   "source": [
    "\"\"\" 테스트를 위해 데이터를 DB에 추가함 \"\"\"\n",
    "import mysql.connector\n",
    "from mysql.connector import Error\n",
    "from mysql.connector import errorcode\n",
    "from datetime import datetime\n",
    "def insertInSummaryTable(index, dest, origin, count):\n",
    "    try:\n",
    "        conn = mysql.connector.connect(host='mariadb',\n",
    "                                       database='sparklab',\n",
    "                                       user='root',\n",
    "                                       port=3306,\n",
    "                                       password='9838')\n",
    "        cursor = conn.cursor(prepared=True)\n",
    "        \n",
    "        sql_createtable_query = \"\"\"\n",
    "        CREATE TABLE IF NOT EXISTS summary_2010(\n",
    "            DEST_COUNTRY_NAME VARCHAR(255) NOT NULL,\n",
    "            ORIGIN_COUNTRY_NAME VARCHAR(255) NOT NULL,\n",
    "            count INT NOT NULL)\n",
    "        \"\"\"\n",
    "        result = cursor.execute(sql_createtable_query)\n",
    "        conn.commit()        \n",
    "        \n",
    "        sql_insert_query = \"\"\"\n",
    "        INSERT INTO summary_2010 VALUES (%s,%s,%s)\n",
    "        \"\"\"\n",
    "        insert_tuple = (dest, origin, int(count)) # np.int64를 일반적인 int로 형 변환\n",
    "        result = cursor.execute(sql_insert_query, insert_tuple)\n",
    "        conn.commit()\n",
    "        print(\"Success {} into MySQL table called {}\".format(insert_tuple, \"summary_2010\"))\n",
    "\n",
    "    except mysql.connector.Error as error :\n",
    "        conn.rollback()\n",
    "        print(\"Failed to insert into MySQL table {}\".format(error))\n",
    "\n",
    "    finally:\n",
    "        if(conn.is_connected()):\n",
    "            cursor.close()\n",
    "            conn.close()\n",
    "            print(\"MySQL connection is closed\")"
   ]
  },
  {
   "cell_type": "code",
   "execution_count": 29,
   "metadata": {},
   "outputs": [
    {
     "name": "stdout",
     "output_type": "stream",
     "text": [
      "<class 'pandas.core.frame.DataFrame'>\n",
      "RangeIndex: 255 entries, 0 to 254\n",
      "Data columns (total 3 columns):\n",
      " #   Column               Non-Null Count  Dtype \n",
      "---  ------               --------------  ----- \n",
      " 0   DEST_COUNTRY_NAME    255 non-null    object\n",
      " 1   ORIGIN_COUNTRY_NAME  255 non-null    object\n",
      " 2   count                255 non-null    int64 \n",
      "dtypes: int64(1), object(2)\n",
      "memory usage: 6.1+ KB\n"
     ]
    }
   ],
   "source": [
    "df = parquetFile.select(\"*\").toPandas()\n",
    "df.info()"
   ]
  },
  {
   "cell_type": "code",
   "execution_count": 30,
   "metadata": {},
   "outputs": [
    {
     "name": "stdout",
     "output_type": "stream",
     "text": [
      "Success ('United States', 'Romania', 1) into MySQL table called summary_2010\n",
      "MySQL connection is closed\n",
      "Success ('United States', 'Ireland', 264) into MySQL table called summary_2010\n",
      "MySQL connection is closed\n",
      "Success ('United States', 'India', 69) into MySQL table called summary_2010\n",
      "MySQL connection is closed\n",
      "Success ('Egypt', 'United States', 24) into MySQL table called summary_2010\n",
      "MySQL connection is closed\n",
      "Success ('Equatorial Guinea', 'United States', 1) into MySQL table called summary_2010\n",
      "MySQL connection is closed\n",
      "Success ('United States', 'Singapore', 25) into MySQL table called summary_2010\n",
      "MySQL connection is closed\n",
      "Success ('United States', 'Grenada', 54) into MySQL table called summary_2010\n",
      "MySQL connection is closed\n",
      "Success ('Costa Rica', 'United States', 477) into MySQL table called summary_2010\n",
      "MySQL connection is closed\n",
      "Success ('Senegal', 'United States', 29) into MySQL table called summary_2010\n",
      "MySQL connection is closed\n",
      "Success ('United States', 'Marshall Islands', 44) into MySQL table called summary_2010\n",
      "MySQL connection is closed\n",
      "Success ('Guyana', 'United States', 17) into MySQL table called summary_2010\n",
      "MySQL connection is closed\n",
      "Success ('United States', 'Sint Maarten', 53) into MySQL table called summary_2010\n",
      "MySQL connection is closed\n",
      "Success ('Malta', 'United States', 1) into MySQL table called summary_2010\n",
      "MySQL connection is closed\n",
      "Success ('Bolivia', 'United States', 46) into MySQL table called summary_2010\n",
      "MySQL connection is closed\n",
      "Success ('Anguilla', 'United States', 21) into MySQL table called summary_2010\n",
      "MySQL connection is closed\n",
      "Success ('Turks and Caicos Islands', 'United States', 136) into MySQL table called summary_2010\n",
      "MySQL connection is closed\n",
      "Success ('United States', 'Afghanistan', 2) into MySQL table called summary_2010\n",
      "MySQL connection is closed\n",
      "Success ('Saint Vincent and the Grenadines', 'United States', 1) into MySQL table called summary_2010\n",
      "MySQL connection is closed\n",
      "Success ('Italy', 'United States', 390) into MySQL table called summary_2010\n",
      "MySQL connection is closed\n",
      "Success ('United States', 'Russia', 156) into MySQL table called summary_2010\n",
      "MySQL connection is closed\n",
      "Success ('United States', 'Federated States of Micronesia', 48) into MySQL table called summary_2010\n",
      "MySQL connection is closed\n",
      "Success ('Pakistan', 'United States', 9) into MySQL table called summary_2010\n",
      "MySQL connection is closed\n",
      "Success ('United States', 'Netherlands', 570) into MySQL table called summary_2010\n",
      "MySQL connection is closed\n",
      "Success ('Iceland', 'United States', 118) into MySQL table called summary_2010\n",
      "MySQL connection is closed\n",
      "Success ('Marshall Islands', 'United States', 77) into MySQL table called summary_2010\n",
      "MySQL connection is closed\n",
      "Success ('Luxembourg', 'United States', 91) into MySQL table called summary_2010\n",
      "MySQL connection is closed\n",
      "Success ('Honduras', 'United States', 391) into MySQL table called summary_2010\n",
      "MySQL connection is closed\n",
      "Success ('The Bahamas', 'United States', 903) into MySQL table called summary_2010\n",
      "MySQL connection is closed\n",
      "Success ('El Salvador', 'United States', 519) into MySQL table called summary_2010\n",
      "MySQL connection is closed\n",
      "Success ('United States', 'Senegal', 46) into MySQL table called summary_2010\n",
      "MySQL connection is closed\n",
      "Success ('Samoa', 'United States', 28) into MySQL table called summary_2010\n",
      "MySQL connection is closed\n",
      "Success ('United States', 'Angola', 18) into MySQL table called summary_2010\n",
      "MySQL connection is closed\n",
      "Success ('Kazakhstan', 'United States', 3) into MySQL table called summary_2010\n",
      "MySQL connection is closed\n",
      "Success ('Switzerland', 'United States', 315) into MySQL table called summary_2010\n",
      "MySQL connection is closed\n",
      "Success ('United States', 'Anguilla', 20) into MySQL table called summary_2010\n",
      "MySQL connection is closed\n",
      "Success ('Sint Maarten', 'United States', 61) into MySQL table called summary_2010\n",
      "MySQL connection is closed\n",
      "Success ('Hong Kong', 'United States', 252) into MySQL table called summary_2010\n",
      "MySQL connection is closed\n",
      "Success ('Trinidad and Tobago', 'United States', 187) into MySQL table called summary_2010\n",
      "MySQL connection is closed\n",
      "Success ('Latvia', 'United States', 12) into MySQL table called summary_2010\n",
      "MySQL connection is closed\n",
      "Success ('United States', 'Ecuador', 345) into MySQL table called summary_2010\n",
      "MySQL connection is closed\n",
      "Success ('Slovakia', 'United States', 1) into MySQL table called summary_2010\n",
      "MySQL connection is closed\n",
      "Success ('Suriname', 'United States', 12) into MySQL table called summary_2010\n",
      "MySQL connection is closed\n",
      "Success ('Mexico', 'United States', 6200) into MySQL table called summary_2010\n",
      "MySQL connection is closed\n",
      "Success ('United States', 'Cyprus', 1) into MySQL table called summary_2010\n",
      "MySQL connection is closed\n",
      "Success ('Ecuador', 'United States', 272) into MySQL table called summary_2010\n",
      "MySQL connection is closed\n",
      "Success ('United States', 'Bosnia and Herzegovina', 1) into MySQL table called summary_2010\n",
      "MySQL connection is closed\n",
      "Success ('United States', 'Portugal', 104) into MySQL table called summary_2010\n",
      "MySQL connection is closed\n",
      "Success ('United States', 'Costa Rica', 501) into MySQL table called summary_2010\n",
      "MySQL connection is closed\n",
      "Success ('United States', 'Guatemala', 333) into MySQL table called summary_2010\n",
      "MySQL connection is closed\n",
      "Success ('United States', 'Suriname', 13) into MySQL table called summary_2010\n",
      "MySQL connection is closed\n",
      "Success ('Colombia', 'United States', 785) into MySQL table called summary_2010\n",
      "MySQL connection is closed\n",
      "Success ('United States', 'Cape Verde', 18) into MySQL table called summary_2010\n",
      "MySQL connection is closed\n",
      "Success ('United States', 'Jamaica', 757) into MySQL table called summary_2010\n",
      "MySQL connection is closed\n",
      "Success ('United States', 'Malaysia', 3) into MySQL table called summary_2010\n",
      "MySQL connection is closed\n",
      "Success ('Norway', 'United States', 29) into MySQL table called summary_2010\n",
      "MySQL connection is closed\n",
      "Success ('United States', 'Morocco', 16) into MySQL table called summary_2010\n",
      "MySQL connection is closed\n",
      "Success ('Thailand', 'United States', 16) into MySQL table called summary_2010\n",
      "MySQL connection is closed\n",
      "Success ('Venezuela', 'United States', 377) into MySQL table called summary_2010\n",
      "MySQL connection is closed\n",
      "Success ('United States', 'Palau', 30) into MySQL table called summary_2010\n",
      "MySQL connection is closed\n",
      "Success ('United States', 'Samoa', 28) into MySQL table called summary_2010\n",
      "MySQL connection is closed\n",
      "Success ('United States', 'Algeria', 1) into MySQL table called summary_2010\n",
      "MySQL connection is closed\n",
      "Success ('United States', 'Venezuela', 341) into MySQL table called summary_2010\n",
      "MySQL connection is closed\n",
      "Success ('Panama', 'United States', 355) into MySQL table called summary_2010\n",
      "MySQL connection is closed\n",
      "Success ('United States', 'Finland', 20) into MySQL table called summary_2010\n",
      "MySQL connection is closed\n",
      "Success ('United States', 'Chile', 176) into MySQL table called summary_2010\n",
      "MySQL connection is closed\n",
      "Success ('Morocco', 'United States', 16) into MySQL table called summary_2010\n",
      "MySQL connection is closed\n",
      "Success ('United States', 'Greece', 61) into MySQL table called summary_2010\n",
      "MySQL connection is closed\n",
      "Success ('Antigua and Barbuda', 'United States', 123) into MySQL table called summary_2010\n",
      "MySQL connection is closed\n",
      "Success ('Azerbaijan', 'United States', 1) into MySQL table called summary_2010\n",
      "MySQL connection is closed\n",
      "Success ('United States', 'The Bahamas', 959) into MySQL table called summary_2010\n",
      "MySQL connection is closed\n",
      "Success ('New Zealand', 'United States', 86) into MySQL table called summary_2010\n",
      "MySQL connection is closed\n",
      "Success ('Liberia', 'United States', 1) into MySQL table called summary_2010\n",
      "MySQL connection is closed\n",
      "Success ('United States', 'Hong Kong', 293) into MySQL table called summary_2010\n",
      "MySQL connection is closed\n",
      "Success ('Hungary', 'United States', 14) into MySQL table called summary_2010\n",
      "MySQL connection is closed\n",
      "Success ('United States', 'China', 505) into MySQL table called summary_2010\n",
      "MySQL connection is closed\n",
      "Success ('United States', 'Vietnam', 1) into MySQL table called summary_2010\n",
      "MySQL connection is closed\n",
      "Success ('Sweden', 'United States', 65) into MySQL table called summary_2010\n",
      "MySQL connection is closed\n",
      "Success ('United States', 'Kuwait', 25) into MySQL table called summary_2010\n",
      "MySQL connection is closed\n",
      "Success ('United States', 'Dominican Republic', 1150) into MySQL table called summary_2010\n",
      "MySQL connection is closed\n",
      "Success ('United States', 'Egypt', 25) into MySQL table called summary_2010\n",
      "MySQL connection is closed\n",
      "Success ('Israel', 'United States', 117) into MySQL table called summary_2010\n",
      "MySQL connection is closed\n",
      "Success ('United States', 'United States', 348113) into MySQL table called summary_2010\n",
      "MySQL connection is closed\n",
      "Success ('United States', 'Luxembourg', 90) into MySQL table called summary_2010\n",
      "MySQL connection is closed\n",
      "Success ('Ethiopia', 'United States', 12) into MySQL table called summary_2010\n",
      "MySQL connection is closed\n",
      "Success ('United States', 'Poland', 61) into MySQL table called summary_2010\n",
      "MySQL connection is closed\n",
      "Success ('Martinique', 'United States', 23) into MySQL table called summary_2010\n",
      "MySQL connection is closed\n",
      "Success ('Saint Barthelemy', 'United States', 28) into MySQL table called summary_2010\n",
      "MySQL connection is closed\n",
      "Success ('United States', 'Saint Barthelemy', 29) into MySQL table called summary_2010\n",
      "MySQL connection is closed\n",
      "Success ('United States', 'Turkey', 87) into MySQL table called summary_2010\n",
      "MySQL connection is closed\n",
      "Success ('Barbados', 'United States', 130) into MySQL table called summary_2010\n",
      "MySQL connection is closed\n",
      "Success ('United States', 'Estonia', 1) into MySQL table called summary_2010\n",
      "MySQL connection is closed\n",
      "Success ('United States', 'Azerbaijan', 1) into MySQL table called summary_2010\n",
      "MySQL connection is closed\n",
      "Success ('Germany', 'United States', 1392) into MySQL table called summary_2010\n",
      "MySQL connection is closed\n",
      "Success ('Kyrgyzstan', 'United States', 2) into MySQL table called summary_2010\n",
      "MySQL connection is closed\n",
      "Success ('United States', 'South Korea', 621) into MySQL table called summary_2010\n",
      "MySQL connection is closed\n",
      "Success ('United States', 'El Salvador', 464) into MySQL table called summary_2010\n",
      "MySQL connection is closed\n",
      "Success ('Ireland', 'United States', 231) into MySQL table called summary_2010\n",
      "MySQL connection is closed\n",
      "Success ('United States', 'Hungary', 15) into MySQL table called summary_2010\n",
      "MySQL connection is closed\n",
      "Success ('United States', 'Serbia', 1) into MySQL table called summary_2010\n",
      "MySQL connection is closed\n",
      "Success ('Malaysia', 'United States', 1) into MySQL table called summary_2010\n",
      "MySQL connection is closed\n",
      "Success ('United States', 'Panama', 363) into MySQL table called summary_2010\n",
      "MySQL connection is closed\n",
      "Success ('United States', 'Ethiopia', 12) into MySQL table called summary_2010\n",
      "MySQL connection is closed\n",
      "Success ('United States', 'Aruba', 349) into MySQL table called summary_2010\n",
      "MySQL connection is closed\n",
      "Success ('United States', 'Thailand', 13) into MySQL table called summary_2010\n",
      "MySQL connection is closed\n",
      "Success ('United States', 'Netherlands Antilles', 289) into MySQL table called summary_2010\n",
      "MySQL connection is closed\n",
      "Success ('United States', 'Turks and Caicos Islands', 147) into MySQL table called summary_2010\n",
      "MySQL connection is closed\n",
      "Success ('Cyprus', 'United States', 2) into MySQL table called summary_2010\n",
      "MySQL connection is closed\n",
      "Success ('United States', 'Pakistan', 15) into MySQL table called summary_2010\n",
      "MySQL connection is closed\n",
      "Success ('United States', 'Honduras', 393) into MySQL table called summary_2010\n",
      "MySQL connection is closed\n",
      "Success ('Qatar', 'United States', 41) into MySQL table called summary_2010\n",
      "MySQL connection is closed\n",
      "Success ('Fiji', 'United States', 53) into MySQL table called summary_2010\n",
      "MySQL connection is closed\n",
      "Success ('Saint Kitts and Nevis', 'United States', 113) into MySQL table called summary_2010\n",
      "MySQL connection is closed\n",
      "Success ('Taiwan', 'United States', 275) into MySQL table called summary_2010\n",
      "MySQL connection is closed\n",
      "Success ('Haiti', 'United States', 238) into MySQL table called summary_2010\n",
      "MySQL connection is closed\n",
      "Success ('Kuwait', 'United States', 26) into MySQL table called summary_2010\n",
      "MySQL connection is closed\n",
      "Success ('Canada', 'United States', 8271) into MySQL table called summary_2010\n",
      "MySQL connection is closed\n",
      "Success ('Federated States of Micronesia', 'United States', 46) into MySQL table called summary_2010\n",
      "MySQL connection is closed\n",
      "Success ('United States', 'Liberia', 1) into MySQL table called summary_2010\n",
      "MySQL connection is closed\n",
      "Success ('Jamaica', 'United States', 733) into MySQL table called summary_2010\n",
      "MySQL connection is closed\n",
      "Success ('United States', 'Malta', 2) into MySQL table called summary_2010\n",
      "MySQL connection is closed\n",
      "Success ('Dominican Republic', 'United States', 1109) into MySQL table called summary_2010\n",
      "MySQL connection is closed\n",
      "Success ('Japan', 'United States', 1383) into MySQL table called summary_2010\n",
      "MySQL connection is closed\n",
      "Success ('United States', 'Saint Vincent and the Grenadines', 16) into MySQL table called summary_2010\n",
      "MySQL connection is closed\n",
      "Success ('United States', 'Guadeloupe', 33) into MySQL table called summary_2010\n",
      "MySQL connection is closed\n",
      "Success ('Finland', 'United States', 24) into MySQL table called summary_2010\n",
      "MySQL connection is closed\n",
      "Success ('United States', 'Ukraine', 17) into MySQL table called summary_2010\n",
      "MySQL connection is closed\n",
      "Success ('United States', 'France', 776) into MySQL table called summary_2010\n",
      "MySQL connection is closed\n",
      "Success ('United States', 'Norway', 36) into MySQL table called summary_2010\n",
      "MySQL connection is closed\n",
      "Success ('Aruba', 'United States', 359) into MySQL table called summary_2010\n",
      "MySQL connection is closed\n",
      "Success ('French Guiana', 'United States', 4) into MySQL table called summary_2010\n",
      "MySQL connection is closed\n",
      "Success ('United States', 'Kiribati', 18) into MySQL table called summary_2010\n",
      "MySQL connection is closed\n",
      "Success ('India', 'United States', 66) into MySQL table called summary_2010\n",
      "MySQL connection is closed\n",
      "Success ('British Virgin Islands', 'United States', 49) into MySQL table called summary_2010\n",
      "MySQL connection is closed\n",
      "Success ('United States', 'Germany', 1406) into MySQL table called summary_2010\n",
      "MySQL connection is closed\n",
      "Success ('Brazil', 'United States', 995) into MySQL table called summary_2010\n",
      "MySQL connection is closed\n",
      "Success ('United States', 'New Zealand', 71) into MySQL table called summary_2010\n",
      "MySQL connection is closed\n",
      "Success ('French Polynesia', 'United States', 38) into MySQL table called summary_2010\n",
      "MySQL connection is closed\n",
      "Success ('United Arab Emirates', 'United States', 165) into MySQL table called summary_2010\n",
      "MySQL connection is closed\n",
      "Success ('Singapore', 'United States', 25) into MySQL table called summary_2010\n",
      "MySQL connection is closed\n",
      "Success ('United States', 'Mexico', 6220) into MySQL table called summary_2010\n",
      "MySQL connection is closed\n",
      "Success ('Netherlands', 'United States', 586) into MySQL table called summary_2010\n",
      "MySQL connection is closed\n",
      "Success ('United States', 'Sweden', 73) into MySQL table called summary_2010\n",
      "MySQL connection is closed\n",
      "Success ('United States', 'Gabon', 1) into MySQL table called summary_2010\n",
      "MySQL connection is closed\n",
      "Success ('United States', 'Martinique', 20) into MySQL table called summary_2010\n",
      "MySQL connection is closed\n",
      "Success ('United States', 'United Arab Emirates', 156) into MySQL table called summary_2010\n",
      "MySQL connection is closed\n",
      "Success ('United States', 'Bulgaria', 2) into MySQL table called summary_2010\n",
      "MySQL connection is closed\n",
      "Success ('China', 'United States', 448) into MySQL table called summary_2010\n",
      "MySQL connection is closed\n",
      "Success ('Denmark', 'United States', 98) into MySQL table called summary_2010\n",
      "MySQL connection is closed\n",
      "Success ('United States', 'Philippines', 116) into MySQL table called summary_2010\n",
      "MySQL connection is closed\n",
      "Success ('United States', 'Nicaragua', 181) into MySQL table called summary_2010\n",
      "MySQL connection is closed\n",
      "Success ('United States', 'Belgium', 355) into MySQL table called summary_2010\n",
      "MySQL connection is closed\n",
      "Success ('Peru', 'United States', 212) into MySQL table called summary_2010\n",
      "MySQL connection is closed\n",
      "Success ('Argentina', 'United States', 184) into MySQL table called summary_2010\n",
      "MySQL connection is closed\n",
      "Success ('Cayman Islands', 'United States', 247) into MySQL table called summary_2010\n",
      "MySQL connection is closed\n",
      "Success ('South Africa', 'United States', 25) into MySQL table called summary_2010\n",
      "MySQL connection is closed\n",
      "Success ('United States', 'Iceland', 129) into MySQL table called summary_2010\n",
      "MySQL connection is closed\n",
      "Success ('United States', 'Argentina', 159) into MySQL table called summary_2010\n",
      "MySQL connection is closed\n",
      "Success ('Spain', 'United States', 422) into MySQL table called summary_2010\n",
      "MySQL connection is closed\n",
      "Success ('Netherlands Antilles', 'United States', 286) into MySQL table called summary_2010\n",
      "MySQL connection is closed\n",
      "Success ('Bermuda', 'United States', 183) into MySQL table called summary_2010\n",
      "MySQL connection is closed\n",
      "Success ('United States', 'Austria', 34) into MySQL table called summary_2010\n",
      "MySQL connection is closed\n",
      "Success ('United States', 'Nigeria', 18) into MySQL table called summary_2010\n",
      "MySQL connection is closed\n",
      "Success ('United States', 'Bonaire, Sint Eustatius, and Saba', 16) into MySQL table called summary_2010\n",
      "MySQL connection is closed\n",
      "Success ('Kiribati', 'United States', 17) into MySQL table called summary_2010\n",
      "MySQL connection is closed\n",
      "Success ('Saudi Arabia', 'United States', 42) into MySQL table called summary_2010\n",
      "MySQL connection is closed\n",
      "Success ('Czech Republic', 'United States', 21) into MySQL table called summary_2010\n",
      "MySQL connection is closed\n",
      "Success ('Belgium', 'United States', 408) into MySQL table called summary_2010\n",
      "MySQL connection is closed\n",
      "Success ('United States', 'Israel', 122) into MySQL table called summary_2010\n",
      "MySQL connection is closed\n",
      "Success ('United States', 'Bahrain', 1) into MySQL table called summary_2010\n",
      "MySQL connection is closed\n",
      "Success ('United States', 'Saint Lucia', 121) into MySQL table called summary_2010\n",
      "MySQL connection is closed\n",
      "Success ('Afghanistan', 'United States', 11) into MySQL table called summary_2010\n",
      "MySQL connection is closed\n",
      "Success ('United States', 'British Virgin Islands', 47) into MySQL table called summary_2010\n",
      "MySQL connection is closed\n",
      "Success ('Curacao', 'United States', 20) into MySQL table called summary_2010\n",
      "MySQL connection is closed\n",
      "Success ('Georgia', 'United States', 2) into MySQL table called summary_2010\n",
      "MySQL connection is closed\n",
      "Success ('United States', 'Guyana', 20) into MySQL table called summary_2010\n",
      "MySQL connection is closed\n",
      "Success ('United States', 'Denmark', 107) into MySQL table called summary_2010\n",
      "MySQL connection is closed\n",
      "Success ('Philippines', 'United States', 132) into MySQL table called summary_2010\n",
      "MySQL connection is closed\n",
      "Success ('Grenada', 'United States', 65) into MySQL table called summary_2010\n",
      "MySQL connection is closed\n",
      "Success ('Cape Verde', 'United States', 18) into MySQL table called summary_2010\n",
      "MySQL connection is closed\n",
      "Success ('Ukraine', 'United States', 19) into MySQL table called summary_2010\n",
      "MySQL connection is closed\n",
      "Success ('United States', 'Papua New Guinea', 1) into MySQL table called summary_2010\n",
      "MySQL connection is closed\n",
      "Success ('United States', 'Saudi Arabia', 54) into MySQL table called summary_2010\n",
      "MySQL connection is closed\n",
      "Success ('Russia', 'United States', 152) into MySQL table called summary_2010\n",
      "MySQL connection is closed\n",
      "Success ('Guatemala', 'United States', 386) into MySQL table called summary_2010\n",
      "MySQL connection is closed\n",
      "Success ('Saint Lucia', 'United States', 116) into MySQL table called summary_2010\n",
      "MySQL connection is closed\n",
      "Success ('Paraguay', 'United States', 90) into MySQL table called summary_2010\n",
      "MySQL connection is closed\n",
      "Success ('United States', 'Curacao', 14) into MySQL table called summary_2010\n",
      "MySQL connection is closed\n",
      "Success ('United States', 'Taiwan', 252) into MySQL table called summary_2010\n",
      "MySQL connection is closed\n",
      "Success ('United States', 'South Africa', 15) into MySQL table called summary_2010\n",
      "MySQL connection is closed\n",
      "Success ('Turkey', 'United States', 75) into MySQL table called summary_2010\n",
      "MySQL connection is closed\n",
      "Success ('United Kingdom', 'United States', 1629) into MySQL table called summary_2010\n",
      "MySQL connection is closed\n",
      "Success ('United States', 'Greenland', 2) into MySQL table called summary_2010\n",
      "MySQL connection is closed\n",
      "Success ('United States', 'Spain', 442) into MySQL table called summary_2010\n",
      "MySQL connection is closed\n",
      "Success ('Cuba', 'United States', 243) into MySQL table called summary_2010\n",
      "MySQL connection is closed\n",
      "Success ('United States', 'Italy', 433) into MySQL table called summary_2010\n",
      "MySQL connection is closed\n",
      "Success ('United States', 'Switzerland', 334) into MySQL table called summary_2010\n",
      "MySQL connection is closed\n",
      "Success ('Dominica', 'United States', 28) into MySQL table called summary_2010\n",
      "MySQL connection is closed\n",
      "Success ('United States', 'Japan', 1307) into MySQL table called summary_2010\n",
      "MySQL connection is closed\n",
      "Success ('Portugal', 'United States', 102) into MySQL table called summary_2010\n",
      "MySQL connection is closed\n",
      "Success ('United States', 'Brazil', 578) into MySQL table called summary_2010\n",
      "MySQL connection is closed\n",
      "Success ('Bahrain', 'United States', 30) into MySQL table called summary_2010\n",
      "MySQL connection is closed\n",
      "Success ('United States', 'Peru', 284) into MySQL table called summary_2010\n",
      "MySQL connection is closed\n",
      "Success ('Vietnam', 'United States', 1) into MySQL table called summary_2010\n",
      "MySQL connection is closed\n",
      "Success ('United States', 'United Kingdom', 1503) into MySQL table called summary_2010\n",
      "MySQL connection is closed\n",
      "Success ('United States', 'Belize', 118) into MySQL table called summary_2010\n",
      "MySQL connection is closed\n",
      "Success ('Belize', 'United States', 121) into MySQL table called summary_2010\n",
      "MySQL connection is closed\n",
      "Success ('United States', 'Ghana', 28) into MySQL table called summary_2010\n",
      "MySQL connection is closed\n",
      "Success ('United States', 'Indonesia', 1) into MySQL table called summary_2010\n",
      "MySQL connection is closed\n",
      "Success ('United States', 'Fiji', 51) into MySQL table called summary_2010\n",
      "MySQL connection is closed\n",
      "Success ('United States', 'Canada', 8305) into MySQL table called summary_2010\n",
      "MySQL connection is closed\n",
      "Success ('United States', 'French Polynesia', 38) into MySQL table called summary_2010\n",
      "MySQL connection is closed\n",
      "Success ('United States', 'Antigua and Barbuda', 121) into MySQL table called summary_2010\n",
      "MySQL connection is closed\n",
      "Success ('United States', 'Burkina Faso', 1) into MySQL table called summary_2010\n",
      "MySQL connection is closed\n",
      "Success ('Nicaragua', 'United States', 178) into MySQL table called summary_2010\n",
      "MySQL connection is closed\n",
      "Success ('United States', 'Latvia', 13) into MySQL table called summary_2010\n",
      "MySQL connection is closed\n",
      "Success ('United States', 'Dominica', 32) into MySQL table called summary_2010\n",
      "MySQL connection is closed\n",
      "Success ('United States', 'Czech Republic', 22) into MySQL table called summary_2010\n",
      "MySQL connection is closed\n",
      "Success ('United States', 'Australia', 216) into MySQL table called summary_2010\n",
      "MySQL connection is closed\n",
      "Success ('Austria', 'United States', 36) into MySQL table called summary_2010\n",
      "MySQL connection is closed\n",
      "Success ('United States', 'Cook Islands', 12) into MySQL table called summary_2010\n",
      "MySQL connection is closed\n",
      "Success ('Jordan', 'United States', 50) into MySQL table called summary_2010\n",
      "MySQL connection is closed\n",
      "Success ('Palau', 'United States', 31) into MySQL table called summary_2010\n",
      "MySQL connection is closed\n",
      "Success ('Uganda', 'United States', 2) into MySQL table called summary_2010\n",
      "MySQL connection is closed\n",
      "Success ('United States', 'Cameroon', 1) into MySQL table called summary_2010\n",
      "MySQL connection is closed\n",
      "Success ('South Korea', 'United States', 683) into MySQL table called summary_2010\n",
      "MySQL connection is closed\n",
      "Success ('Angola', 'United States', 14) into MySQL table called summary_2010\n",
      "MySQL connection is closed\n",
      "Success ('Ghana', 'United States', 27) into MySQL table called summary_2010\n",
      "MySQL connection is closed\n",
      "Success ('Guadeloupe', 'United States', 40) into MySQL table called summary_2010\n",
      "MySQL connection is closed\n",
      "Success ('France', 'United States', 774) into MySQL table called summary_2010\n",
      "MySQL connection is closed\n",
      "Success ('United States', 'Kyrgyzstan', 12) into MySQL table called summary_2010\n",
      "MySQL connection is closed\n",
      "Success ('Poland', 'United States', 62) into MySQL table called summary_2010\n",
      "MySQL connection is closed\n",
      "Success ('Nigeria', 'United States', 16) into MySQL table called summary_2010\n",
      "MySQL connection is closed\n",
      "Success ('United States', 'Uruguay', 24) into MySQL table called summary_2010\n",
      "MySQL connection is closed\n",
      "Success ('Greenland', 'United States', 2) into MySQL table called summary_2010\n",
      "MySQL connection is closed\n",
      "Success ('Chile', 'United States', 166) into MySQL table called summary_2010\n",
      "MySQL connection is closed\n",
      "Success ('United States', 'Bermuda', 180) into MySQL table called summary_2010\n",
      "MySQL connection is closed\n",
      "Success ('United States', 'Cuba', 235) into MySQL table called summary_2010\n",
      "MySQL connection is closed\n",
      "Success ('United States', 'Colombia', 832) into MySQL table called summary_2010\n",
      "MySQL connection is closed\n",
      "Success ('United States', 'Qatar', 40) into MySQL table called summary_2010\n",
      "MySQL connection is closed\n",
      "Success ('United States', 'Barbados', 119) into MySQL table called summary_2010\n",
      "MySQL connection is closed\n",
      "Success ('Australia', 'United States', 290) into MySQL table called summary_2010\n",
      "MySQL connection is closed\n",
      "Success ('United States', 'Jordan', 51) into MySQL table called summary_2010\n",
      "MySQL connection is closed\n",
      "Success ('United States', 'Cayman Islands', 251) into MySQL table called summary_2010\n",
      "MySQL connection is closed\n",
      "Success ('United States', 'Trinidad and Tobago', 200) into MySQL table called summary_2010\n",
      "MySQL connection is closed\n",
      "Success ('United States', 'Bolivia', 39) into MySQL table called summary_2010\n",
      "MySQL connection is closed\n",
      "Success ('United States', 'Slovakia', 1) into MySQL table called summary_2010\n",
      "MySQL connection is closed\n",
      "Success ('Uruguay', 'United States', 54) into MySQL table called summary_2010\n",
      "MySQL connection is closed\n",
      "Success ('Cook Islands', 'United States', 13) into MySQL table called summary_2010\n",
      "MySQL connection is closed\n",
      "Success ('United States', 'Saint Kitts and Nevis', 127) into MySQL table called summary_2010\n",
      "MySQL connection is closed\n",
      "Success ('Bulgaria', 'United States', 1) into MySQL table called summary_2010\n",
      "MySQL connection is closed\n",
      "Success ('United States', 'French Guiana', 1) into MySQL table called summary_2010\n",
      "MySQL connection is closed\n",
      "Success ('United States', 'Haiti', 226) into MySQL table called summary_2010\n",
      "MySQL connection is closed\n",
      "Success ('United States', 'Uganda', 1) into MySQL table called summary_2010\n",
      "MySQL connection is closed\n",
      "Success ('Bonaire, Sint Eustatius, and Saba', 'United States', 16) into MySQL table called summary_2010\n",
      "MySQL connection is closed\n",
      "Success ('Greece', 'United States', 50) into MySQL table called summary_2010\n",
      "MySQL connection is closed\n"
     ]
    }
   ],
   "source": [
    "for row in df.to_records(): # numpy.recarray\n",
    "    insertInSummaryTable(*row)"
   ]
  },
  {
   "cell_type": "code",
   "execution_count": 31,
   "metadata": {},
   "outputs": [
    {
     "data": {
      "text/html": [
       "<div>\n",
       "<style scoped>\n",
       "    .dataframe tbody tr th:only-of-type {\n",
       "        vertical-align: middle;\n",
       "    }\n",
       "\n",
       "    .dataframe tbody tr th {\n",
       "        vertical-align: top;\n",
       "    }\n",
       "\n",
       "    .dataframe thead th {\n",
       "        text-align: right;\n",
       "    }\n",
       "</style>\n",
       "<table border=\"1\" class=\"dataframe\">\n",
       "  <thead>\n",
       "    <tr style=\"text-align: right;\">\n",
       "      <th></th>\n",
       "      <th>DEST_COUNTRY_NAME</th>\n",
       "      <th>ORIGIN_COUNTRY_NAME</th>\n",
       "      <th>count</th>\n",
       "    </tr>\n",
       "  </thead>\n",
       "  <tbody>\n",
       "    <tr>\n",
       "      <th>0</th>\n",
       "      <td>United States</td>\n",
       "      <td>Romania</td>\n",
       "      <td>1</td>\n",
       "    </tr>\n",
       "    <tr>\n",
       "      <th>1</th>\n",
       "      <td>United States</td>\n",
       "      <td>Ireland</td>\n",
       "      <td>264</td>\n",
       "    </tr>\n",
       "    <tr>\n",
       "      <th>2</th>\n",
       "      <td>United States</td>\n",
       "      <td>India</td>\n",
       "      <td>69</td>\n",
       "    </tr>\n",
       "    <tr>\n",
       "      <th>3</th>\n",
       "      <td>Egypt</td>\n",
       "      <td>United States</td>\n",
       "      <td>24</td>\n",
       "    </tr>\n",
       "    <tr>\n",
       "      <th>4</th>\n",
       "      <td>Equatorial Guinea</td>\n",
       "      <td>United States</td>\n",
       "      <td>1</td>\n",
       "    </tr>\n",
       "    <tr>\n",
       "      <th>5</th>\n",
       "      <td>United States</td>\n",
       "      <td>Singapore</td>\n",
       "      <td>25</td>\n",
       "    </tr>\n",
       "    <tr>\n",
       "      <th>6</th>\n",
       "      <td>United States</td>\n",
       "      <td>Grenada</td>\n",
       "      <td>54</td>\n",
       "    </tr>\n",
       "    <tr>\n",
       "      <th>7</th>\n",
       "      <td>Costa Rica</td>\n",
       "      <td>United States</td>\n",
       "      <td>477</td>\n",
       "    </tr>\n",
       "    <tr>\n",
       "      <th>8</th>\n",
       "      <td>Senegal</td>\n",
       "      <td>United States</td>\n",
       "      <td>29</td>\n",
       "    </tr>\n",
       "    <tr>\n",
       "      <th>9</th>\n",
       "      <td>United States</td>\n",
       "      <td>Marshall Islands</td>\n",
       "      <td>44</td>\n",
       "    </tr>\n",
       "  </tbody>\n",
       "</table>\n",
       "</div>"
      ],
      "text/plain": [
       "   DEST_COUNTRY_NAME ORIGIN_COUNTRY_NAME  count\n",
       "0      United States             Romania      1\n",
       "1      United States             Ireland    264\n",
       "2      United States               India     69\n",
       "3              Egypt       United States     24\n",
       "4  Equatorial Guinea       United States      1\n",
       "5      United States           Singapore     25\n",
       "6      United States             Grenada     54\n",
       "7         Costa Rica       United States    477\n",
       "8            Senegal       United States     29\n",
       "9      United States    Marshall Islands     44"
      ]
     },
     "execution_count": 31,
     "metadata": {},
     "output_type": "execute_result"
    }
   ],
   "source": [
    "df.head(10)"
   ]
  },
  {
   "cell_type": "code",
   "execution_count": 32,
   "metadata": {},
   "outputs": [
    {
     "name": "stdout",
     "output_type": "stream",
     "text": [
      "+--------------------+\n",
      "|   DEST_COUNTRY_NAME|\n",
      "+--------------------+\n",
      "|   Equatorial Guinea|\n",
      "|             Senegal|\n",
      "|              Guyana|\n",
      "|               Malta|\n",
      "|            Anguilla|\n",
      "|Turks and Caicos ...|\n",
      "|            Pakistan|\n",
      "|             Iceland|\n",
      "|               Samoa|\n",
      "| Trinidad and Tobago|\n",
      "|            Slovakia|\n",
      "|            Suriname|\n",
      "|              Mexico|\n",
      "|             Ecuador|\n",
      "|              Norway|\n",
      "|              Panama|\n",
      "| Antigua and Barbuda|\n",
      "|          Azerbaijan|\n",
      "|         New Zealand|\n",
      "|             Liberia|\n",
      "+--------------------+\n",
      "only showing top 20 rows\n",
      "\n"
     ]
    }
   ],
   "source": [
    "dataframe_mysql = spark.read.format(\"jdbc\").options(\n",
    "    url=\"jdbc:mysql://mariadb/sparklab\",\n",
    "    driver = \"com.mysql.jdbc.Driver\",\n",
    "    dbtable = \"summary_2010\",\n",
    "    batchsize = 200,\n",
    "    fetchsize = 100,\n",
    "    user=\"root\",\n",
    "    password=\"9838\").load()\n",
    "\n",
    "from pyspark.sql.functions import count, col\n",
    "\n",
    "dataframe_mysql.select(col(\"DEST_COUNTRY_NAME\")).distinct().show()"
   ]
  },
  {
   "cell_type": "markdown",
   "metadata": {},
   "source": [
    "### 9.6.2 쿼리 푸시다운\n",
    "+ DataFrame을 만들기 전에 데이터베이스 자체에서 데이터를 처리하도록 명령하는 것\n",
    "    + 필터를 명시하면 해당 필터에 대한 처리는 데이터베이스에 위임\n",
    "    + 괄호로 쿼리를 묶고 이름을 변경"
   ]
  },
  {
   "cell_type": "code",
   "execution_count": 33,
   "metadata": {},
   "outputs": [
    {
     "name": "stdout",
     "output_type": "stream",
     "text": [
      "== Physical Plan ==\n",
      "*(1) Scan JDBCRelation(summary_2010) [numPartitions=1] [DEST_COUNTRY_NAME#96,ORIGIN_COUNTRY_NAME#97,count#98] PushedFilters: [*In(DEST_COUNTRY_NAME, [Anguilla,Sweden])], ReadSchema: struct<DEST_COUNTRY_NAME:string,ORIGIN_COUNTRY_NAME:string,count:int>\n",
      "\n",
      "\n"
     ]
    }
   ],
   "source": [
    "dataframe_mysql.filter(\"DEST_COUNTRY_NAME in ('Anguilla', 'Sweden')\").explain()"
   ]
  },
  {
   "cell_type": "code",
   "execution_count": 34,
   "metadata": {},
   "outputs": [],
   "source": [
    "pushdownQuery = \"\"\"(SELECT DISTINCT(DEST_COUNTRY_NAME) FROM summary_2010) AS summary_2010 \"\"\"\n",
    "dbDataFrame = spark.read.format(\"jdbc\")\\\n",
    "    .option(\"url\", \"jdbc:mysql://mariadb/sparklab\")\\\n",
    "    .option(\"dbtable\", pushdownQuery)\\\n",
    "    .option(\"driver\", \"com.mysql.jdbc.Driver\")\\\n",
    "    .option(\"user\", \"root\").option(\"password\", \"9838\")\\\n",
    "    .load()"
   ]
  },
  {
   "cell_type": "code",
   "execution_count": 35,
   "metadata": {},
   "outputs": [
    {
     "data": {
      "text/plain": [
       "[Row(count(1)=125)]"
      ]
     },
     "execution_count": 35,
     "metadata": {},
     "output_type": "execute_result"
    }
   ],
   "source": [
    "from pyspark.sql.functions import expr\n",
    "dbDataFrame.select(expr(\"count(*)\")).collect()"
   ]
  },
  {
   "cell_type": "code",
   "execution_count": 36,
   "metadata": {},
   "outputs": [
    {
     "name": "stdout",
     "output_type": "stream",
     "text": [
      "== Physical Plan ==\n",
      "*(1) Scan JDBCRelation((SELECT DISTINCT(DEST_COUNTRY_NAME) FROM summary_2010) AS summary_2010) [numPartitions=1] [DEST_COUNTRY_NAME#108] PushedFilters: [], ReadSchema: struct<DEST_COUNTRY_NAME:string>\n",
      "\n",
      "\n"
     ]
    }
   ],
   "source": [
    "dbDataFrame.explain() # 쿼리가 실행 계획에 그대로 반영됨"
   ]
  },
  {
   "cell_type": "markdown",
   "metadata": {},
   "source": [
    "#### 데이터베이스 병렬로 읽기\n",
    "+ numPartitions 옵션을 사용해 일기 및 쓰기용 동시 작업 수를 제한할 수 있는 최대 파티션 수를 설정"
   ]
  },
  {
   "cell_type": "code",
   "execution_count": 37,
   "metadata": {},
   "outputs": [],
   "source": [
    "dbDataFrame = spark.read.format(\"jdbc\")\\\n",
    "    .option(\"url\", \"jdbc:mysql://mariadb/sparklab\")\\\n",
    "    .option(\"dbtable\", pushdownQuery)\\\n",
    "    .option(\"driver\", \"com.mysql.jdbc.Driver\")\\\n",
    "    .option(\"user\", \"root\").option(\"password\", \"9838\")\\\n",
    "    .option(\"numPartitions\", 10)\\\n",
    "    .load()"
   ]
  },
  {
   "cell_type": "code",
   "execution_count": 38,
   "metadata": {},
   "outputs": [
    {
     "name": "stdout",
     "output_type": "stream",
     "text": [
      "+--------------------+\n",
      "|   DEST_COUNTRY_NAME|\n",
      "+--------------------+\n",
      "|   Equatorial Guinea|\n",
      "|             Senegal|\n",
      "|              Guyana|\n",
      "|               Malta|\n",
      "|            Anguilla|\n",
      "|Turks and Caicos ...|\n",
      "|            Pakistan|\n",
      "|             Iceland|\n",
      "|               Samoa|\n",
      "| Trinidad and Tobago|\n",
      "|            Slovakia|\n",
      "|            Suriname|\n",
      "|              Mexico|\n",
      "|             Ecuador|\n",
      "|              Norway|\n",
      "|              Panama|\n",
      "| Antigua and Barbuda|\n",
      "|          Azerbaijan|\n",
      "|         New Zealand|\n",
      "|             Liberia|\n",
      "+--------------------+\n",
      "only showing top 20 rows\n",
      "\n"
     ]
    }
   ],
   "source": [
    "dbDataFrame.select(\"DEST_COUNTRY_NAME\").distinct().show()"
   ]
  },
  {
   "cell_type": "markdown",
   "metadata": {},
   "source": [
    "+ 스파크 자체 파티션에 결과 데이터를 저장"
   ]
  },
  {
   "cell_type": "code",
   "execution_count": 39,
   "metadata": {},
   "outputs": [
    {
     "data": {
      "text/plain": [
       "1"
      ]
     },
     "execution_count": 39,
     "metadata": {},
     "output_type": "execute_result"
    }
   ],
   "source": [
    "dbDataFrame.rdd.getNumPartitions()"
   ]
  },
  {
   "cell_type": "code",
   "execution_count": 40,
   "metadata": {},
   "outputs": [
    {
     "name": "stdout",
     "output_type": "stream",
     "text": [
      "+-----------------+-------------------+-----+\n",
      "|DEST_COUNTRY_NAME|ORIGIN_COUNTRY_NAME|count|\n",
      "+-----------------+-------------------+-----+\n",
      "|           Sweden|      United States|   65|\n",
      "|    United States|             Sweden|   73|\n",
      "|           Sweden|      United States|   65|\n",
      "|    United States|             Sweden|   73|\n",
      "|           Sweden|      United States|   65|\n",
      "|    United States|             Sweden|   73|\n",
      "|           Sweden|      United States|   65|\n",
      "|    United States|             Sweden|   73|\n",
      "|         Anguilla|      United States|   21|\n",
      "|    United States|           Anguilla|   20|\n",
      "|         Anguilla|      United States|   21|\n",
      "|    United States|           Anguilla|   20|\n",
      "|         Anguilla|      United States|   21|\n",
      "|    United States|           Anguilla|   20|\n",
      "|         Anguilla|      United States|   21|\n",
      "|    United States|           Anguilla|   20|\n",
      "+-----------------+-------------------+-----+\n",
      "\n"
     ]
    },
    {
     "data": {
      "text/plain": [
       "2"
      ]
     },
     "execution_count": 40,
     "metadata": {},
     "output_type": "execute_result"
    }
   ],
   "source": [
    "props = {\"driver\":\"com.mysql.jdbc.Driver\",\n",
    "         \"user\":\"root\",\n",
    "         \"password\":\"9838\"}\n",
    "predicates = [\n",
    "    \"DEST_COUNTRY_NAME = 'Sweden' OR ORIGIN_COUNTRY_NAME = 'Sweden'\",\n",
    "    \"DEST_COUNTRY_NAME = 'Anguilla' OR ORIGIN_COUNTRY_NAME = 'Anguilla'\"]\n",
    "\n",
    "url = \"jdbc:mysql://mariadb/sparklab\"\n",
    "\n",
    "spark.read.jdbc(url, \"summary_2010\", predicates=predicates, properties=props).show()\n",
    "spark.read.jdbc(url, \"summary_2010\", predicates=predicates, properties=props)\\\n",
    "    .rdd.getNumPartitions()"
   ]
  },
  {
   "cell_type": "markdown",
   "metadata": {},
   "source": [
    "+ 연관성이 없는 조건절을 정의하여 중복 로우가 발생한 사례"
   ]
  },
  {
   "cell_type": "code",
   "execution_count": 41,
   "metadata": {},
   "outputs": [
    {
     "name": "stdout",
     "output_type": "stream",
     "text": [
      "+--------------------+-------------------+-----+\n",
      "|   DEST_COUNTRY_NAME|ORIGIN_COUNTRY_NAME|count|\n",
      "+--------------------+-------------------+-----+\n",
      "|       United States|            Romania|    1|\n",
      "|       United States|            Ireland|  264|\n",
      "|       United States|              India|   69|\n",
      "|               Egypt|      United States|   24|\n",
      "|   Equatorial Guinea|      United States|    1|\n",
      "|       United States|          Singapore|   25|\n",
      "|       United States|            Grenada|   54|\n",
      "|          Costa Rica|      United States|  477|\n",
      "|             Senegal|      United States|   29|\n",
      "|       United States|   Marshall Islands|   44|\n",
      "|              Guyana|      United States|   17|\n",
      "|       United States|       Sint Maarten|   53|\n",
      "|               Malta|      United States|    1|\n",
      "|             Bolivia|      United States|   46|\n",
      "|            Anguilla|      United States|   21|\n",
      "|Turks and Caicos ...|      United States|  136|\n",
      "|       United States|        Afghanistan|    2|\n",
      "|Saint Vincent and...|      United States|    1|\n",
      "|               Italy|      United States|  390|\n",
      "|       United States|             Russia|  156|\n",
      "+--------------------+-------------------+-----+\n",
      "only showing top 20 rows\n",
      "\n"
     ]
    },
    {
     "data": {
      "text/plain": [
       "2040"
      ]
     },
     "execution_count": 41,
     "metadata": {},
     "output_type": "execute_result"
    }
   ],
   "source": [
    "predicates = [\n",
    "    \"DEST_COUNTRY_NAME != 'Sweden' OR ORIGIN_COUNTRY_NAME != 'Sweden'\",\n",
    "    \"DEST_COUNTRY_NAME != 'Anguilla' OR ORIGIN_COUNTRY_NAME != 'Anguilla'\"] # 조건마다 병렬처리 하고 결합, 중복열이 많이 발생할 수 있음\n",
    "\n",
    "spark.read.jdbc(url, \"summary_2010\", predicates=predicates, properties=props).show()\n",
    "spark.read.jdbc(url, \"summary_2010\", predicates=predicates, properties=props).count() # 원래 컬럼은 255개임"
   ]
  },
  {
   "cell_type": "markdown",
   "metadata": {},
   "source": [
    "#### 슬라이딩 윈도우 기반의 파티셔닝\n",
    "+ 조건절을 기반으로 분할"
   ]
  },
  {
   "cell_type": "code",
   "execution_count": 42,
   "metadata": {},
   "outputs": [
    {
     "data": {
      "text/plain": [
       "1020"
      ]
     },
     "execution_count": 42,
     "metadata": {},
     "output_type": "execute_result"
    }
   ],
   "source": [
    "colName = \"count\"\n",
    "lowerBound = 0\n",
    "upperBound = 348113\n",
    "numPartitions = 10\n",
    "\n",
    "spark.read.jdbc(url, \"summary_2010\", properties=props,\n",
    "                lowerBound=lowerBound,\n",
    "                upperBound=upperBound, # 예제 데이터베이스의 데이터 최대 개수\n",
    "                numPartitions=numPartitions).count() # 255"
   ]
  },
  {
   "cell_type": "markdown",
   "metadata": {},
   "source": [
    "### 9.6.3 SQL 데이터베이스 쓰기"
   ]
  },
  {
   "cell_type": "markdown",
   "metadata": {},
   "source": [
    "+ overwrite 모드"
   ]
  },
  {
   "cell_type": "code",
   "execution_count": 43,
   "metadata": {},
   "outputs": [
    {
     "data": {
      "text/plain": [
       "254"
      ]
     },
     "execution_count": 43,
     "metadata": {},
     "output_type": "execute_result"
    }
   ],
   "source": [
    "csvFile.write.jdbc(url, \"summary_2010\", mode=\"overwrite\", properties=props)\n",
    "spark.read.jdbc(url, \"summary_2010\", properties=props).count()"
   ]
  },
  {
   "cell_type": "markdown",
   "metadata": {},
   "source": [
    "+ append 모드, 레코드 증가 확인"
   ]
  },
  {
   "cell_type": "code",
   "execution_count": 44,
   "metadata": {},
   "outputs": [
    {
     "data": {
      "text/plain": [
       "508"
      ]
     },
     "execution_count": 44,
     "metadata": {},
     "output_type": "execute_result"
    }
   ],
   "source": [
    "csvFile.write.jdbc(url, \"summary_2010\", mode=\"append\", properties=props)\n",
    "spark.read.jdbc(url, \"summary_2010\", properties=props).count()"
   ]
  },
  {
   "cell_type": "markdown",
   "metadata": {},
   "source": [
    "## 9.7 텍스트 파일\n",
    "### 9.7.1 텍스트 파일 읽기\n",
    "+ textFile 메서드는 텍스트 파일을 직접 지정 (※ 현재 메서드가 없음)\n",
    "+ text는 파티션 수행 결과로 만들어진 디렉터리를 인식"
   ]
  },
  {
   "cell_type": "code",
   "execution_count": 45,
   "metadata": {},
   "outputs": [
    {
     "name": "stdout",
     "output_type": "stream",
     "text": [
      "+--------------------+\n",
      "|                rows|\n",
      "+--------------------+\n",
      "|[DEST_COUNTRY_NAM...|\n",
      "|[United States, R...|\n",
      "|[United States, I...|\n",
      "|[United States, I...|\n",
      "|[Egypt, United St...|\n",
      "|[Equatorial Guine...|\n",
      "|[United States, S...|\n",
      "|[United States, G...|\n",
      "|[Costa Rica, Unit...|\n",
      "|[Senegal, United ...|\n",
      "|[United States, M...|\n",
      "|[Guyana, United S...|\n",
      "|[United States, S...|\n",
      "|[Malta, United St...|\n",
      "|[Bolivia, United ...|\n",
      "|[Anguilla, United...|\n",
      "|[Turks and Caicos...|\n",
      "|[United States, A...|\n",
      "|[Saint Vincent an...|\n",
      "|[Italy, United St...|\n",
      "+--------------------+\n",
      "only showing top 20 rows\n",
      "\n"
     ]
    }
   ],
   "source": [
    "spark.read.text(\"../BookSamples/data/flight-data/csv/2010-summary.csv\")\\\n",
    "    .selectExpr(\"split(value, ',') as rows\").show()"
   ]
  },
  {
   "cell_type": "markdown",
   "metadata": {},
   "source": [
    "+ 텍스트 파일을 쓸 때는 일반적으로 문자열 컬럼이 하나만 존재해야 함\n",
    "+ 파티셔닝 작업을 수행하면 더 많은 컬럼을 저장하나 디텔터리에 폴더별로 컬럼을 저장"
   ]
  },
  {
   "cell_type": "code",
   "execution_count": 46,
   "metadata": {},
   "outputs": [],
   "source": [
    "csvFile.limit(10).select(\"DEST_COUNTRY_NAME\", \"count\")\\\n",
    "    .write.mode(\"overwrite\").partitionBy(\"count\").text(\"../BookSamples/data/tmp/five-csv-file2py.csv\")"
   ]
  },
  {
   "cell_type": "code",
   "execution_count": 47,
   "metadata": {},
   "outputs": [
    {
     "name": "stdout",
     "output_type": "stream",
     "text": [
      "ls: cannot access './data/tmp/five-csv-file2py.csv': No such file or directory\n"
     ]
    }
   ],
   "source": [
    "!ls ./data/tmp/five-csv-file2py.csv -al"
   ]
  },
  {
   "cell_type": "markdown",
   "metadata": {},
   "source": [
    "## 9.8 고급 I/O 개념\n",
    "+ 추천하는 파일 포맷과 압축 방식은 파케이 파일 포맷과 GZIP 압축방식\n",
    "+ 기본적으로 데이터 파티션당 하나의 파일이 작성됨\n",
    "    + 아래는 5개의 파일을 생성"
   ]
  },
  {
   "cell_type": "code",
   "execution_count": 48,
   "metadata": {},
   "outputs": [],
   "source": [
    "csvFile.coalesce(5).write.mode(\"overwrite\").format(\"csv\").save(\"./data/tmp/multiple.csv\")"
   ]
  },
  {
   "cell_type": "code",
   "execution_count": 49,
   "metadata": {},
   "outputs": [
    {
     "name": "stdout",
     "output_type": "stream",
     "text": [
      "part-00000-5906e75d-13ec-49d9-bcf3-7a9f485bfa14-c000.csv  _SUCCESS\n"
     ]
    }
   ],
   "source": [
    "!ls ./data/tmp/multiple.csv"
   ]
  },
  {
   "cell_type": "markdown",
   "metadata": {},
   "source": [
    "#### 파티셔닝\n",
    "+ 디렉터리별로 컬럼 데이터를 인코딩해 저장\n",
    "+ 전체 데이터셋을 스캔하지 않고 필요한 컬럼의 데이터만 읽기 가능"
   ]
  },
  {
   "cell_type": "code",
   "execution_count": 50,
   "metadata": {},
   "outputs": [],
   "source": [
    "csvFile.limit(5).write.mode(\"overwrite\").partitionBy(\"DEST_COUNTRY_NAME\")\\\n",
    "    .save(\"./data/tmp/partitioned-files.parquet\")"
   ]
  },
  {
   "cell_type": "code",
   "execution_count": 51,
   "metadata": {},
   "outputs": [
    {
     "name": "stdout",
     "output_type": "stream",
     "text": [
      "'DEST_COUNTRY_NAME=Egypt'\t       'DEST_COUNTRY_NAME=United States'\n",
      "'DEST_COUNTRY_NAME=Equatorial Guinea'   _SUCCESS\n"
     ]
    }
   ],
   "source": [
    "!ls ./data/tmp/partitioned-files.parquet/"
   ]
  },
  {
   "cell_type": "markdown",
   "metadata": {},
   "source": [
    "#### 버켓팅\n",
    "+ 동일한 버킷 ID를 가진 데이터가 하나의 물리적 파티션에 모두 모여있기 때문에 데이터를 읽을 때 셔플을 피할 수 있음\n",
    "+ 스파크 관리 테이블에서만 사용 가능\n",
    "- 파일에 대한 "
   ]
  },
  {
   "cell_type": "code",
   "execution_count": 52,
   "metadata": {},
   "outputs": [],
   "source": [
    "\"\"\" 버켓 단위로 데이터를 모아 일정 수의 파일로 저장 \"\"\"\n",
    "numberBuckets = 5\n",
    "columnToBucketBy = \"count\"\n",
    "\n",
    "csvFile.write.format(\"parquet\").mode(\"overwrite\").bucketBy(numberBuckets, columnToBucketBy).option(\"path\", \"./data/tmp/warehouse\").saveAsTable(\"bucketedFiles\")"
   ]
  },
  {
   "cell_type": "markdown",
   "metadata": {},
   "source": [
    "#### 기타\n",
    "+ 복합데이터(리스트 등)는 파케이, ORC 타입에서 지원\n",
    "+ 스파크는 작은 용량의 파일이 많을 때 취약하나 반대의 상황도 좋지 않음\n",
    "+ maxRecordsPerFile 옵션을 통해 파일당 레코드 수를 지정할 수 있음"
   ]
  },
  {
   "cell_type": "code",
   "execution_count": null,
   "metadata": {},
   "outputs": [],
   "source": []
  }
 ],
 "metadata": {
  "kernelspec": {
   "display_name": "Python 3",
   "language": "python",
   "name": "python3"
  },
  "language_info": {
   "codemirror_mode": {
    "name": "ipython",
    "version": 3
   },
   "file_extension": ".py",
   "mimetype": "text/x-python",
   "name": "python",
   "nbconvert_exporter": "python",
   "pygments_lexer": "ipython3",
   "version": "3.8.3"
  }
 },
 "nbformat": 4,
 "nbformat_minor": 4
}
